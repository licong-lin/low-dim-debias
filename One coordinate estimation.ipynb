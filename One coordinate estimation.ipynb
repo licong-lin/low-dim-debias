{
 "cells": [
  {
   "cell_type": "code",
   "execution_count": 1,
   "id": "8f33407e",
   "metadata": {},
   "outputs": [],
   "source": [
    "import matplotlib.pyplot as plt\n",
    "import numpy as np\n",
    "from scipy.stats import norm\n",
    "import pickle"
   ]
  },
  {
   "cell_type": "code",
   "execution_count": 2,
   "id": "f4ec7cc0",
   "metadata": {},
   "outputs": [],
   "source": [
    "def OLS(X,y,single=False):\n",
    "    d=X.shape[1]\n",
    "    inv_m=np.linalg.inv(X.T@X+0.001*np.identity(d))\n",
    "    \n",
    "    ols_vec=inv_m@X.T@y    ## (d,1) vector\n",
    "    if single:\n",
    "        std=sigma*inv_m[0,0]**0.5\n",
    "        return ols_vec[0,0],std\n",
    "    \n",
    "        \n",
    "    return ols_vec\n",
    "\n",
    "\n",
    "def COLS(X,y,single=False):   ##centered OLS\n",
    "    d=X.shape[1]\n",
    "    \n",
    "    X=X-np.ones((X.shape[0],1))@(np.mean(X,axis=0)).reshape(1,-1)\n",
    "    \n",
    "    inv_m=np.linalg.inv(X.T@X+0.001*np.identity(d))\n",
    "    \n",
    "    ols_vec=inv_m@X.T@y    ## (d,1) vector\n",
    "    if single:\n",
    "        std=sigma*inv_m[0,0]**0.5\n",
    "        return ols_vec[0,0],std\n",
    "    \n",
    "        \n",
    "    return ols_vec\n",
    "\n",
    "def gen_data(n,d_all,d_ada,sigma, Xmean = 0):       \n",
    "    \n",
    "    # initialize theta_star\n",
    "    theta_star=np.zeros((d_all,1))\n",
    "    \n",
    "    theta_star[0,0]=1\n",
    "    theta_star[1:d_ada,0]=np.random.normal(loc=0,scale=1,size=(d_ada-1,))\n",
    "    \n",
    "    # non-zero non-adaptive coefficients\n",
    "    theta_star[d_ada:,0]=np.random.normal(loc=0,scale=1,size=(d_all-d_ada,))\n",
    "    \n",
    "\n",
    "    X=np.zeros((n,d_all))\n",
    "    y=np.zeros((n,1))\n",
    "    eps=np.random.normal(loc=0,scale=sigma,size=(n,))\n",
    "    \n",
    "\n",
    "    # generate non-adaptive components with fixed norm\n",
    "    X[:,d_ada:] = np.random.normal(loc=0,scale=1,size=(n,d_all-d_ada))\n",
    "    X[:,d_ada:] = X[:,d_ada:] / np.linalg.norm(X[:,d_ada:],axis=1).reshape(n,1)\n",
    "    \n",
    "    if Xmean != 0:\n",
    "        mu = np.random.normal(1,1,d_all - d_ada)\n",
    "        X[:,d_ada:] = X[:,d_ada:] + np.ones((n, 1))@mu.reshape(1,-1)\n",
    "\n",
    "\n",
    "    b=np.zeros(n+1)\n",
    "    for i in range (n+1):\n",
    "        b[i]=1/(i+1)**(1/4)/d_ada**0.5\n",
    "\n",
    "    for i in range(n):\n",
    "            \n",
    "        v = i//(d_ada-1)\n",
    "        u = i %(d_ada-1)\n",
    "        \n",
    "        X[i,u+1] = b[v]\n",
    "        index_1 = np.arange(u,i,d_ada-1)\n",
    "        assert np.size(index_1) == v\n",
    "        \n",
    "        # modify the code here\n",
    "        # replace theta_star by theta_hat\n",
    "        v1 = np.sum(b[:v]*( y[index_1,0]-X[index_1,0] - X[index_1, d_ada:]@theta_star[d_ada:,:]) )\n",
    "        v2 = 1+np.sum(b[:v]**2)\n",
    "\n",
    "        X[i,0] =- b[v+1]*v1/v2\n",
    "    \n",
    "        y[i,0] = X[i:(i+1),:]@theta_star + eps[i]\n",
    "\n",
    "\n",
    "    return X, y, theta_star\n"
   ]
  },
  {
   "cell_type": "code",
   "execution_count": 3,
   "id": "b522436f",
   "metadata": {},
   "outputs": [],
   "source": [
    "def estimation_ratio_wrap(n,d_list,d_all, sigma):\n",
    "    length=d_list.shape[0]\n",
    "    \n",
    "    record_ols=np.zeros((length,2))\n",
    "    record_cols=np.zeros((length,2))\n",
    "\n",
    "\n",
    "    for ii in range(length):\n",
    "        d_ada=d_list[ii]\n",
    "        \n",
    "        X, y, theta_star = gen_data(n,d_all,d_ada,sigma, Xmean = 0)\n",
    "        record_ols[ii,0],record_ols[ii,1]= OLS(X,y,single=True)\n",
    "        record_ols[ii,0] = np.copy(record_ols[ii,0])-theta_star[0,0]\n",
    "        \n",
    "        X,y, theta_star = gen_data(n,d_all,d_ada,sigma, Xmean = 1)\n",
    "        record_cols[ii,0],record_cols[ii,1]= COLS(X,y,single=True)\n",
    "        record_cols[ii,0] = np.copy(record_cols[ii,0])-theta_star[0,0]\n",
    "    \n",
    "    \n",
    "    return record_ols,record_cols\n",
    "    "
   ]
  },
  {
   "cell_type": "code",
   "execution_count": null,
   "id": "547b59f5",
   "metadata": {},
   "outputs": [],
   "source": []
  },
  {
   "cell_type": "code",
   "execution_count": 4,
   "id": "fe787051",
   "metadata": {},
   "outputs": [],
   "source": [
    "n=1000\n",
    "\n",
    "d_all= 300\n",
    "d_list=np.arange(2, 200, 3)\n",
    "num=np.size(d_list)\n",
    "\n",
    "rep= 20\n",
    "sigma=0.3 ## scale of the zero mean noise\n",
    "\n",
    "\n",
    "record_ols=np.zeros((rep,num,2))\n",
    "record_cols=np.zeros((rep,num,2))"
   ]
  },
  {
   "cell_type": "code",
   "execution_count": 5,
   "id": "9a71bbd4",
   "metadata": {},
   "outputs": [],
   "source": [
    "seed=15\n",
    "\n",
    "np.random.seed(seed)\n",
    "\n",
    "for j in range(rep):\n",
    "    record_ols[j,:,:], record_cols[j,:,:]=estimation_ratio_wrap(n,d_list,d_all,sigma)  \n",
    "\n",
    "    \n",
    "record_list=[record_ols,record_cols]    \n",
    "\n",
    "with open(\"./n_{}_{}.pkl\".format(n,'estimation_ratio'), \"wb\") as file:\n",
    "    pickle.dump([[seed,n,d_list,d_all,rep,sigma,num],record_list], file)\n",
    "    \n",
    "    "
   ]
  },
  {
   "cell_type": "code",
   "execution_count": 6,
   "id": "2c22154b",
   "metadata": {},
   "outputs": [],
   "source": [
    "def plot_est_err_ratio(n):\n",
    "    \n",
    "    with open(\"./n_{}_{}.pkl\".format(n,'estimation_ratio'), \"rb\") as file:\n",
    "        [seed,n,d_list,d_all,rep,sigma,num],record_list=pickle.load(file)\n",
    "        \n",
    "    record_ols,record_cols=record_list\n",
    "    \n",
    "    scale_ols=record_ols[:,:,0]/record_ols[:,:,1]\n",
    "    scale_cols=record_cols[:,:,0]/record_cols[:,:,1]\n",
    "    scale_ols=np.abs(scale_ols)\n",
    "    scale_cols=np.abs(scale_cols)\n",
    "\n",
    "\n",
    "    \n",
    "      \n",
    "    plt.figure(figsize=(10,8))\n",
    "    plt.rcParams.update({'font.size': 25})\n",
    "    \n",
    "    color_ols = 'navy'\n",
    "    color_cols = 'forestgreen'\n",
    "\n",
    "\n",
    "\n",
    "    \n",
    "    title_fontsize = 25\n",
    "    label_fontsize = 25\n",
    "    capsize=3\n",
    "    linewidth=2\n",
    "\n",
    "\n",
    "\n",
    "    ''' color options\n",
    "        'navy'\n",
    "        'darkorange'\n",
    "        'forestgreen'\n",
    "        'darkviolet'\n",
    "        'firebrick'\n",
    "        'dodgerblue'\n",
    "    '''\n",
    "    \n",
    "    plt.figure()    \n",
    "    rep = np.size(d_list)\n",
    "    plt.errorbar(d_list, np.mean(scale_ols**2,axis=0), yerr=np.std(scale_ols**2,axis=0), linestyle='-', marker='o', label='OLS',\\\n",
    "                        color=color_ols, capsize=capsize,linewidth=linewidth)\n",
    "\n",
    "    x = d_list\n",
    "    y = np.mean(scale_ols**2,axis=0)\n",
    "    a, b = np.polyfit(x, y, 1)\n",
    "    print(a)\n",
    "    plt.plot(x, a*x+b, linewidth=2, color = 'black')  \n",
    "       \n",
    "    plt.xlabel('Dimension of adaptive covariates',fontsize=label_fontsize)\n",
    "    plt.ylabel('Scaled MSE',fontsize=label_fontsize)\n",
    "    plt.grid(True)\n",
    "    plt.legend(fontsize=label_fontsize)\n",
    "    \n",
    "    \n",
    "\n",
    "    # Show the plot\n",
    "    plt.savefig('./zero_mean_OLS.pdf', bbox_inches='tight')\n",
    "    plt.figure() \n",
    "    \n",
    "    \n",
    "    \n",
    "    plt.errorbar(d_list, np.mean(scale_cols**2,axis=0), yerr=np.std(scale_cols**2,axis=0) , linestyle='--', marker='^', label='COLS',\\\n",
    "                         color=color_cols, capsize=capsize,linewidth=linewidth)\n",
    "    \n",
    "    x = d_list\n",
    "    y = np.mean(scale_cols**2,axis=0)\n",
    "    a, b = np.polyfit(x, y, 1)\n",
    "    print(a)\n",
    "    plt.plot(x, a*x+b, linewidth=3, color = 'black')  \n",
    "       \n",
    "    plt.xlabel('Dimension of adaptive covariates',fontsize=label_fontsize)\n",
    "    plt.ylabel('Scaled MSE',fontsize=label_fontsize)\n",
    "    plt.grid(True)\n",
    "    plt.legend(fontsize=label_fontsize)\n",
    "    \n",
    "    \n",
    "    # Show the plot\n",
    "    plt.savefig('./non_zero_mean_COLS.pdf', bbox_inches='tight')\n",
    "    plt.figure()\n",
    "\n",
    "    "
   ]
  },
  {
   "cell_type": "code",
   "execution_count": 7,
   "id": "e964bbf6",
   "metadata": {},
   "outputs": [
    {
     "name": "stdout",
     "output_type": "stream",
     "text": [
      "0.3147846586333958\n",
      "0.30807150106950626\n"
     ]
    },
    {
     "data": {
      "text/plain": [
       "<Figure size 720x576 with 0 Axes>"
      ]
     },
     "metadata": {},
     "output_type": "display_data"
    },
    {
     "data": {
      "image/png": "[encoded data removed]",
      "text/plain": [
       "<Figure size 432x288 with 1 Axes>"
      ]
     },
     "metadata": {
      "needs_background": "light"
     },
     "output_type": "display_data"
    },
    {
     "data": {
      "image/png": "[encoded data removed]",
      "text/plain": [
       "<Figure size 432x288 with 1 Axes>"
      ]
     },
     "metadata": {
      "needs_background": "light"
     },
     "output_type": "display_data"
    },
    {
     "data": {
      "text/plain": [
       "<Figure size 432x288 with 0 Axes>"
      ]
     },
     "metadata": {},
     "output_type": "display_data"
    }
   ],
   "source": [
    "plot_est_err_ratio(n)"
   ]
  },
  {
   "cell_type": "code",
   "execution_count": null,
   "id": "a0b2c74a",
   "metadata": {},
   "outputs": [],
   "source": []
  }
 ],
 "metadata": {
  "kernelspec": {
   "display_name": "Python 3",
   "language": "python",
   "name": "python3"
  },
  "language_info": {
   "codemirror_mode": {
    "name": "ipython",
    "version": 3
   },
   "file_extension": ".py",
   "mimetype": "text/x-python",
   "name": "python",
   "nbconvert_exporter": "python",
   "pygments_lexer": "ipython3",
   "version": "3.8.5"
  }
 },
 "nbformat": 4,
 "nbformat_minor": 5
}
